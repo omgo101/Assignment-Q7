{
  "nbformat": 4,
  "nbformat_minor": 0,
  "metadata": {
    "colab": {
      "provenance": []
    },
    "kernelspec": {
      "name": "python3",
      "display_name": "Python 3"
    },
    "language_info": {
      "name": "python"
    }
  },
  "cells": [
    {
      "cell_type": "code",
      "execution_count": 2,
      "metadata": {
        "id": "5kbjVwkIsE8b"
      },
      "outputs": [],
      "source": [
        "import pandas as pd\n",
        "import numpy as np\n",
        "import scipy.stats as stats"
      ]
    },
    {
      "cell_type": "code",
      "source": [
        "#Given:  p(a<x<b) = 0.99 ,mean =100,standardDeviation = 20\n",
        "print(np.round(stats.norm.interval(0.99, loc = 100, scale = 20),1)) "
      ],
      "metadata": {
        "colab": {
          "base_uri": "https://localhost:8080/"
        },
        "id": "fuwUlEgysPpY",
        "outputId": "48d34f3b-8261-4eca-9e5e-bace353817d8"
      },
      "execution_count": 4,
      "outputs": [
        {
          "output_type": "stream",
          "name": "stdout",
          "text": [
            "[ 48.5 151.5]\n"
          ]
        }
      ]
    },
    {
      "cell_type": "markdown",
      "source": [
        "ans is D"
      ],
      "metadata": {
        "id": "QaYT-dm_uPOG"
      }
    }
  ]
}