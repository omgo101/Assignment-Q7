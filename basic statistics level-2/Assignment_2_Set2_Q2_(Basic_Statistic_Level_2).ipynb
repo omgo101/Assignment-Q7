{
  "nbformat": 4,
  "nbformat_minor": 0,
  "metadata": {
    "colab": {
      "provenance": [],
      "collapsed_sections": []
    },
    "kernelspec": {
      "name": "python3",
      "display_name": "Python 3"
    },
    "language_info": {
      "name": "python"
    }
  },
  "cells": [
    {
      "cell_type": "code",
      "execution_count": null,
      "metadata": {
        "id": "ct9VOMEsWHDC"
      },
      "outputs": [],
      "source": [
        "import pandas as pd\n",
        "import numpy as np\n",
        "import scipy.stats as stats"
      ]
    },
    {
      "cell_type": "code",
      "source": [
        "# Find Z-Scores  for 44  Z = (X - µ) / σ \n",
        "Z= (44 - 38)/6\n",
        "Z"
      ],
      "metadata": {
        "colab": {
          "base_uri": "https://localhost:8080/"
        },
        "id": "tlWTzwxfWliO",
        "outputId": "caa2dec4-768d-47cf-8a48-5dd8043510e9"
      },
      "execution_count": 1,
      "outputs": [
        {
          "output_type": "execute_result",
          "data": {
            "text/plain": [
              "1.0"
            ]
          },
          "metadata": {},
          "execution_count": 1
        }
      ]
    },
    {
      "cell_type": "markdown",
      "source": [
        "through z table we got 84.13 % so People above 44 age = 100 - 84.13 =  15.87%  that is  63  out of 400"
      ],
      "metadata": {
        "id": "PKE602N0XQ5Z"
      }
    },
    {
      "cell_type": "code",
      "source": [
        "#similarly for\n",
        "## Find Z-Scores  for  38  Z = (X - µ) / σ \n",
        "Z= (38 - 38)/6\n",
        "Z"
      ],
      "metadata": {
        "colab": {
          "base_uri": "https://localhost:8080/"
        },
        "id": "u6KUXDQ2XXln",
        "outputId": "e9be8645-4630-4456-85fc-04eaac31d967"
      },
      "execution_count": 2,
      "outputs": [
        {
          "output_type": "execute_result",
          "data": {
            "text/plain": [
              "0.0"
            ]
          },
          "metadata": {},
          "execution_count": 2
        }
      ]
    },
    {
      "cell_type": "markdown",
      "source": [
        "through z table we got  50% so People between 38 & 44  age = 84.13 - 50 = 34.13 %  137 out of 400 hence Therefore, More employees at the processing center are older than 44 than between 38 and 44 is FALSE ."
      ],
      "metadata": {
        "id": "8OB42jzTYD8J"
      }
    },
    {
      "cell_type": "code",
      "source": [
        "#Z score for 30 \n",
        "z=(30 - 38)/6 \n",
        "z"
      ],
      "metadata": {
        "colab": {
          "base_uri": "https://localhost:8080/"
        },
        "id": "SaJz6KCjp6L_",
        "outputId": "6f5a7aa4-e197-4255-a8ca-4bb765d25fff"
      },
      "execution_count": 3,
      "outputs": [
        {
          "output_type": "execute_result",
          "data": {
            "text/plain": [
              "-1.3333333333333333"
            ]
          },
          "metadata": {},
          "execution_count": 3
        }
      ]
    },
    {
      "cell_type": "markdown",
      "source": [
        " -1.33  =  9.15 % = 36 out of 400 hence\n",
        "B. Therefore, A training program for employees under the age of 30 at the center would be expected to attract about 36 employees - TRUE."
      ],
      "metadata": {
        "id": "2jyqNSkwqIhJ"
      }
    }
  ]
}